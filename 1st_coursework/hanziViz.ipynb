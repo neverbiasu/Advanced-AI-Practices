{
 "cells": [
  {
   "cell_type": "code",
   "execution_count": 1,
   "metadata": {},
   "outputs": [],
   "source": [
    "import cv2\n",
    "import numpy as np\n",
    "from matplotlib import pyplot as plt"
   ]
  },
  {
   "cell_type": "code",
   "execution_count": 2,
   "metadata": {},
   "outputs": [],
   "source": [
    "class CharacterDrawer:\n",
    "    def __init__(self):\n",
    "        self.lst2 = {}\n",
    "        self.backIndex = 0\n",
    "        self.characterIndx = 0\n",
    "        self.img = None\n",
    "\n",
    "    def get_input(self):\n",
    "        self.draw_character(self.lst2[int(0)])\n",
    "\n",
    "    def read_file(self, file_path):\n",
    "        with open(file_path, encoding='utf-8') as file_obj:\n",
    "            for line in file_obj:\n",
    "                number_lst = line.split(',')\n",
    "                idx = 3\n",
    "                temp_lst = []\n",
    "                self.lst2[self.characterIndx] = []\n",
    "                while number_lst[idx] != '':\n",
    "                    if number_lst[idx] == '-64':\n",
    "                        self.lst2[self.characterIndx].append(temp_lst.copy())\n",
    "                        temp_lst.clear()\n",
    "                        idx = idx + 2\n",
    "                        continue\n",
    "                    pointx = number_lst[idx]\n",
    "                    pointy = number_lst[idx + 1]\n",
    "                    idx += 2\n",
    "                    temp_lst.append((int(pointx), int(pointy)))\n",
    "                self.characterIndx += 1\n",
    "\n",
    "    def draw_character(self, lst_word):\n",
    "        self.backIndex = 0\n",
    "        print(\"lstowrld \", lst_word)\n",
    "        self.img = np.zeros([280, 320, 3], np.uint8) + 255\n",
    "        for lst in lst_word:\n",
    "            i = 0\n",
    "            while i < len(lst) - 1:\n",
    "                cv2.line(self.img, (lst[i][0] * 7 + 110, -1 * lst[i][1] * 7 + 130),\n",
    "                         (lst[i + 1][0] * 7 + 110, -1 * lst[i + 1][1] * 7 + 130), (0, 0, 0), 2)\n",
    "                i += 1\n",
    "            cv2.imshow('image', self.img)\n",
    "            cv2.waitKey(800)\n",
    "        plt.ylim(0, 280)\n",
    "        plt.xlim(0, 300)\n",
    "        plt.imshow(self.img)\n",
    "        plt.show()\n",
    "\n",
    "    def back(self, lst_word):\n",
    "        self.img = np.zeros([500, 500, 3], np.uint8) + 255\n",
    "        for lst in lst_word[:-1 - self.backIndex]:\n",
    "            i = 0\n",
    "            while i < len(lst) - 1:\n",
    "                cv2.line(self.img, (lst[i][0] * 10 + 250, lst[i][1] * 10 + 250),\n",
    "                         (lst[i + 1][0] * 10 + 250, lst[i + 1][1] * 10 + 250), (0, 0, 0), 2)\n",
    "                i += 1\n",
    "        cv2.imshow('image', self.img)\n",
    "        self.backIndex += 1\n",
    "\n",
    "    def save(self):\n",
    "        cv2.imwrite('a.jpg', self.img)\n"
   ]
  },
  {
   "cell_type": "code",
   "execution_count": 3,
   "metadata": {},
   "outputs": [
    {
     "name": "stdout",
     "output_type": "stream",
     "text": [
      "lstowrld  [[(-6, -7), (-2, -7), (-4, -2), (-2, 0), (-2, 3), (-4, 4), (-6, 3), (-6, 3)], [(-6, -7), (-6, 8), (-6, 8)], [(-1, -7), (8, -7), (8, -7)], [(6, -7), (6, 7), (4, 7), (4, 7)], [(0, -3), (0, 2), (0, 2)], [(0, -3), (3, -3), (3, 3), (3, 3)], [(0, 2), (3, 2), (3, 2)]]\n"
     ]
    },
    {
     "data": {
      "image/png": "[encoded data removed]",
      "text/plain": [
       "<Figure size 432x288 with 1 Axes>"
      ]
     },
     "metadata": {
      "needs_background": "light"
     },
     "output_type": "display_data"
    }
   ],
   "source": [
    "if __name__ == '__main__':\n",
    "    drawer = CharacterDrawer()\n",
    "    drawer.read_file('hz（去噪声）.txt')\n",
    "    drawer.get_input()\n",
    "    "
   ]
  }
 ],
 "metadata": {
  "kernelspec": {
   "display_name": "Python 3",
   "language": "python",
   "name": "python3"
  },
  "language_info": {
   "codemirror_mode": {
    "name": "ipython",
    "version": 3
   },
   "file_extension": ".py",
   "mimetype": "text/x-python",
   "name": "python",
   "nbconvert_exporter": "python",
   "pygments_lexer": "ipython3",
   "version": "3.9.12"
  },
  "orig_nbformat": 4,
  "vscode": {
   "interpreter": {
    "hash": "e4cce46d6be9934fbd27f9ca0432556941ea5bdf741d4f4d64c6cd7f8dfa8fba"
   }
  }
 },
 "nbformat": 4,
 "nbformat_minor": 2
}
