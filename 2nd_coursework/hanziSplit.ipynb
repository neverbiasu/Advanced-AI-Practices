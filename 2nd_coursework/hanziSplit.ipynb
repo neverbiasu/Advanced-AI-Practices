{
 "cells": [
  {
   "cell_type": "code",
   "execution_count": 1,
   "metadata": {},
   "outputs": [],
   "source": [
    "import matplotlib.pyplot as plt"
   ]
  },
  {
   "cell_type": "code",
   "execution_count": 9,
   "metadata": {},
   "outputs": [],
   "source": [
    "class Word:\n",
    "    def __init__(self, data):\n",
    "        \"\"\"\n",
    "        初始化 Word 对象\n",
    "        :param data: 汉字矢量图的点坐标数据\n",
    "        \"\"\"\n",
    "        self.data = data\n",
    "        self.strokes = []\n",
    "\n",
    "    def split_dot(self):\n",
    "        \"\"\"\n",
    "        将汉字矢量图的点坐标数据切分成笔画\n",
    "        \"\"\"\n",
    "        total_length = self.data[0]\n",
    "        index = 3\n",
    "        current_stroke = []\n",
    "\n",
    "        while index + 1 <= total_length:\n",
    "            x, y = self.data[index], self.data[index + 1]\n",
    "\n",
    "            if x == -64 and y == 0:\n",
    "                if current_stroke:\n",
    "                    self.strokes.append(current_stroke)\n",
    "                    current_stroke = []\n",
    "            elif x == -64 and y == -64:\n",
    "                break\n",
    "            else:\n",
    "                current_stroke.append((x, y))\n",
    "\n",
    "            index += 2\n",
    "\n",
    "        if current_stroke:\n",
    "            self.strokes.append(current_stroke)\n",
    "\n",
    "    def identify_radical(self):\n",
    "        \"\"\"\n",
    "        识别汉字的部首部分，将其作为一个整体返回\n",
    "        :return: 部首的所有笔画列表\n",
    "        \"\"\"\n",
    "        radical_strokes = []\n",
    "\n",
    "        # 假设部首通常在汉字左侧或顶部，根据x坐标值判断\n",
    "        for stroke in self.strokes:\n",
    "            if all(point[0] <= 0 for point in stroke): \n",
    "                radical_strokes.append(stroke)\n",
    "        \n",
    "        return radical_strokes\n",
    "\n",
    "    def draw_radical(self):\n",
    "        \"\"\"\n",
    "        连贯绘制汉字的部首\n",
    "        \"\"\"\n",
    "        radical_strokes = self.identify_radical()\n",
    "\n",
    "        if not radical_strokes:\n",
    "            print(\"未识别到部首\")\n",
    "            return\n",
    "\n",
    "        plt.figure(figsize=(6, 6))\n",
    "        plt.xlim(-20, 20)\n",
    "        plt.ylim(-20, 20)\n",
    "\n",
    "        # 绘制部首的所有笔画作为整体\n",
    "        for stroke in radical_strokes:\n",
    "            x_coords, y_coords = zip(*stroke)  # 提取所有点的x和y坐标\n",
    "            plt.plot(x_coords, [-y for y in y_coords], marker='.', color='k')\n",
    "\n",
    "        plt.axis('equal')\n",
    "        plt.title(\"识别出的部首（连贯输出）\")\n",
    "        plt.show()\n",
    "\n",
    "def run(file_path, word_index):\n",
    "    \"\"\"\n",
    "    运行汉字矢量图切分和绘制部首\n",
    "    :param file_path: 汉字矢量图点坐标文件路径\n",
    "    :param word_index: 要处理的汉字索引\n",
    "    \"\"\"\n",
    "    words = []\n",
    "\n",
    "    with open(file_path, 'r') as file:\n",
    "        for line in file.readlines():\n",
    "            data = list(map(int, line.strip(',,,,,,\\n').split(',')))\n",
    "            words.append(Word(data))\n",
    "\n",
    "    words[word_index].split_dot()\n",
    "    words[word_index].draw_radical()"
   ]
  },
  {
   "cell_type": "code",
   "execution_count": 25,
   "metadata": {},
   "outputs": [
    {
     "data": {
      "image/png": "[encoded data removed]",
      "text/plain": [
       "<Figure size 432x432 with 1 Axes>"
      ]
     },
     "metadata": {
      "needs_background": "light"
     },
     "output_type": "display_data"
    }
   ],
   "source": [
    "if __name__ == '__main__':\n",
    "    # 示例运行，选择第一个汉字（索引0）\n",
    "    run(r\"hz（去噪声）.txt\", 0)\n"
   ]
  }
 ],
 "metadata": {
  "kernelspec": {
   "display_name": "base",
   "language": "python",
   "name": "python3"
  },
  "language_info": {
   "codemirror_mode": {
    "name": "ipython",
    "version": 3
   },
   "file_extension": ".py",
   "mimetype": "text/x-python",
   "name": "python",
   "nbconvert_exporter": "python",
   "pygments_lexer": "ipython3",
   "version": "3.9.12"
  }
 },
 "nbformat": 4,
 "nbformat_minor": 2
}
